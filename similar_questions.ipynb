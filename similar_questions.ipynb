{
 "cells": [
  {
   "cell_type": "code",
   "execution_count": 1,
   "id": "81c95ec8",
   "metadata": {},
   "outputs": [],
   "source": [
    "from sentence_transformers import SentenceTransformer\n",
    "from sklearn.cluster import KMeans\n",
    "from sklearn.metrics.pairwise import cosine_similarity\n",
    "import numpy as np\n",
    "import pandas as pd\n",
    "import matplotlib.pyplot as plt\n",
    "import seaborn as sns\n",
    "from sklearn.manifold import TSNE"
   ]
  },
  {
   "cell_type": "code",
   "execution_count": 12,
   "id": "5933727c-c8ed-46ed-bfb4-727dd1d7df47",
   "metadata": {},
   "outputs": [],
   "source": [
    "questions = [\n",
    "    \"Find the greatest $(M)$ and least $(m)$ values of the following functions in the indicated intervals (i) $f(x)=x e^{-x}$ on $[0, \\infty)$ (ii) $f(x)=\\sqrt{ }\\left(1-x^{2}\\right)\\left(1+2 x^{2}\\right)$ on $[-1,1]$\",\n",
    "    \"Find the greatest least values of the functions (i) $f(x)=\\arctan x-\\frac{1}{2} \\ln x$ on $\\left[\\frac{1}{\\sqrt{3}}, \\sqrt{3}\\right]$ (ii) $f(x)=2 \\sin x+\\sin 2 x$ on $\\left[0, \\frac{3 \\pi}{2}\\right]$ (iii) $f(x)= \\begin{cases}2 x^{2}+\\frac{2}{x^{2}} ; & -2 \\leq x<0 ; 0<x \\leq 2 \\\\ 1 ; & x=0\\end{cases}$ (iv) $f(x)=x-2 \\ln x$ on [1, e]\",\n",
    "    \"Find the local maxima/local minima of the function $f(x)$ and also the image of interval (i) $[0,3]$ (ii) $[0,4]$ under the mapping $f(x)=x^{5}-5 x^{4}+5 x^{3}+1$.\",\n",
    "    \"Find the points of local maxima and local minima of the function $f(x)=(x-1)^{3}(x+1)^{2}$. Find also the local maximum and local minimum values.\",\n",
    "    \"Using the first derivative, find the extrema of the function $f(x)=\\frac{x^{2}-3 x+2}{x^{2}+2 x+1}$\",\n",
    "    \"Find the extrema of function $f(x)=\\sqrt[3]{(x-1)^{2}}+\\sqrt[3]{(x+1)^{2}}$.\",\n",
    "    \"The function $f(x)=x^{3}+a x^{2}+b x+c, a^{2} \\leq 3 b$ has (a) one maximum value (b) one minimum value (c) no extreme value (d) one maximum and one minimum value\",\n",
    "    \"If $y=\\frac{\\sin (x+a)}{\\sin (x+b)}, a \\neq b$, then $y$ has (a) minima at $x=0$ (b) maxima at $x=0$ (c) neither minima nor maxima at $x=0$ (d) None of the above\",\n",
    "    \"The difference between the greatest and least values of function $f(x)=\\cos x+\\frac{1}{2} \\cos 2 x-\\frac{1}{3} \\cos 3 x$ is (a) $\\frac{2}{3}$ (b) $\\frac{8}{7}$ (c) $\\frac{3}{8}$ (d) $\\frac{9}{4}$\",\n",
    "    \"The minimum value of $x^{2}+\\frac{1}{1+x^{2}}$ is at (a) $x=0$ (b) $x=1$ (c) $x=4$ (d) $x=3$\",\n",
    "    \"The minimum value of $e^{\\left(2 x^{2}-2 x+1\\right) \\sin ^{2} x}$ is (a) 0 (b) 1 (c) 2 (d) 3\",\n",
    "    \"The absolute maximum of $x^{40}-x^{20}$ on the interval $[0,1]$ is (a) $-\\frac{1}{4}$ (b) 0 (c) $\\frac{1}{4}$ (d) $\\frac{1}{2}$\",\n",
    "    \"The extreme values of $4 \\cos \\left(x^{2}\\right) \\cos \\left(\\frac{\\pi}{3}+x^{2}\\right) \\cos \\left(\\frac{\\pi}{3}-x^{2}\\right)$ over $R$, are (a) $-1,1$ (b) $-2,2$ (c) $-3,3$ (d) $-4,4$\",\n",
    "    \"The maximum value $x^{1 / x}$ is (a) $1 / \\mathrm{e}^{\\mathrm{e}}$ (b) $e$ (c) $e^{1 / e}$ (d) $1 / e$\",\n",
    "    \"The largest value of $2 x^{3}-3 x^{2}-12 x+5$ for $-2 \\leq x \\leq 4$ occurs at $x$ equals to (a) -4 (b) 0 (c) 1 (d) 4\",\n",
    "    \"The minimum value of $4 e^{2 x}+9 e^{-2 x}$ is (a) 11 (b) 12 (c) 10 (d) 14\",\n",
    "    \"If the largest term in the sequence $a_{n}=\\frac{n^{2}}{\\left(n^{3}+100\\right)^{2}}$ is $a_{\\alpha}$, then $\\alpha$ is $\\qquad$\",\n",
    "    \"The function $f(x)=\\int_{-1}^{x} t\\left(e^{t}-1\\right)(t-1)(t-2)^{3} d t$ has $m$ number of local maxima and $n$ number at local minima, then $|m-n|$ is (a) 1 (b) 2 (c) 3 (d) 4\",\n",
    "    \"Let the function $f(x)$ be defined as $f(x)=\\left\\{\\begin{array}{cc}\\tan ^{-1} \\alpha-3 x^{2}, & 0<x<1 \\\\ -6 x, & x \\geq 1\\end{array} . f(x)\\right.$ can have a maximum at $x=1$. If the value of $\\alpha$ is (a) 0 (b) 2 (c) 1 (d) None of these\"\n",
    "]"
   ]
  },
  {
   "cell_type": "code",
   "execution_count": 13,
   "id": "1b0dcaed-e3e7-4802-b286-da0d78ff2bca",
   "metadata": {},
   "outputs": [
    {
     "data": {
      "text/plain": [
       "19"
      ]
     },
     "execution_count": 13,
     "metadata": {},
     "output_type": "execute_result"
    }
   ],
   "source": [
    "len(questions)"
   ]
  },
  {
   "cell_type": "code",
   "execution_count": 5,
   "id": "77f98aac-cfeb-4453-9be4-f0b9d4974a90",
   "metadata": {},
   "outputs": [],
   "source": [
    "model = SentenceTransformer(\"BAAI/bge-m3\")"
   ]
  },
  {
   "cell_type": "code",
   "execution_count": 14,
   "id": "77fb9f9d-2c8d-41ce-a2dd-987df0d114c7",
   "metadata": {},
   "outputs": [],
   "source": [
    "embeddings = model.encode(questions)"
   ]
  },
  {
   "cell_type": "code",
   "execution_count": 15,
   "id": "2e046dc0-3cfb-4dbb-9c10-37489d5e4f51",
   "metadata": {},
   "outputs": [],
   "source": [
    "# Cluster using KMeans\n",
    "n_clusters = 5\n",
    "kmeans = KMeans(n_clusters=n_clusters, random_state=42)\n",
    "labels = kmeans.fit_predict(embeddings)"
   ]
  },
  {
   "cell_type": "code",
   "execution_count": 16,
   "id": "540197d0-20a3-407c-8cfc-b0071f4fa31e",
   "metadata": {},
   "outputs": [],
   "source": [
    "# Find central question in each cluster\n",
    "representatives = []\n",
    "for cluster_id in range(n_clusters):\n",
    "    idxs = [i for i, label in enumerate(labels) if label == cluster_id]\n",
    "    cluster_embeddings = [embeddings[i] for i in idxs]\n",
    "    sims = cosine_similarity([kmeans.cluster_centers_[cluster_id]], cluster_embeddings)\n",
    "    central_idx = idxs[np.argmax(sims)]\n",
    "    representatives.append((cluster_id, questions[central_idx]))"
   ]
  },
  {
   "cell_type": "code",
   "execution_count": 25,
   "id": "8346254c-879a-4c28-a533-522980c50dd1",
   "metadata": {},
   "outputs": [
    {
     "name": "stdout",
     "output_type": "stream",
     "text": [
      "Representative Questions from Each Cluster:\n",
      "\n",
      "Cluster 0: If $y=\\x0crac{\\\\sin (x+a)}{\\\\sin (x+b)}, a \\neq b$, then $y$ has (a) minima at $x=0$ (b) maxima at $x=0$ (c) neither minima nor maxima at $x=0$ (d) None of the above\n",
      "Cluster 1: Let the function $f(x)$ be defined as $f(x)=\\\\left\\\\{\\x08egin{array}{cc}\\tan ^{-1} \\x07lpha-3 x^{2}, & 0<x<1 \\\\ -6 x, & x \\\\geq 1\\\\end{array} . f(x)\\right.$ can have a maximum at $x=1$. If the value of $\\x07lpha$ is (a) 0 (b) 2 (c) 1 (d) None of these\n",
      "Cluster 2: Find the greatest least values of the functions (i) $f(x)=\\x07rctan x-\\x0crac{1}{2} \\\\ln x$ on $\\\\left[\\x0crac{1}{\\\\sqrt{3}}, \\\\sqrt{3}\\right]$ (ii) $f(x)=2 \\\\sin x+\\\\sin 2 x$ on $\\\\left[0, \\x0crac{3 \\\\pi}{2}\\right]$ (iii) $f(x)= \\x08egin{cases}2 x^{2}+\\x0crac{2}{x^{2}} ; & -2 \\\\leq x<0 ; 0<x \\\\leq 2 \\\\ 1 ; & x=0\\\\end{cases}$ (iv) $f(x)=x-2 \\\\ln x$ on [1, e]\n",
      "Cluster 3: If the largest term in the sequence $a_{n}=\\x0crac{n^{2}}{\\\\left(n^{3}+100\\right)^{2}}$ is $a_{\\x07lpha}$, then $\\x07lpha$ is $\\\\qquad$\n",
      "Cluster 4: Find the points of local maxima and local minima of the function $f(x)=(x-1)^{3}(x+1)^{2}$. Find also the local maximum and local minimum values.\n"
     ]
    }
   ],
   "source": [
    "print(\"Representative Questions from Each Cluster:\\n\")\n",
    "for cluster_id, question in representatives:\n",
    "    fixed_question = question.encode('unicode_escape').decode()\n",
    "    print(f\"Cluster {cluster_id}: {fixed_question}\")"
   ]
  },
  {
   "cell_type": "code",
   "execution_count": 9,
   "id": "e01fc172-b89d-48a8-81eb-aa76c588b7bd",
   "metadata": {},
   "outputs": [],
   "source": [
    "# Visualize with t-SNE\n",
    "tsne = TSNE(n_components=2, perplexity=5, random_state=42)\n",
    "reduced = tsne.fit_transform(embeddings)\n",
    "df_viz = pd.DataFrame({\n",
    "    \"x\": reduced[:, 0],\n",
    "    \"y\": reduced[:, 1],\n",
    "    \"label\": labels,\n",
    "    \"question\": questions\n",
    "})"
   ]
  },
  {
   "cell_type": "code",
   "execution_count": 10,
   "id": "8da2505b-c94a-46a4-bac9-30463c988b90",
   "metadata": {},
   "outputs": [
    {
     "data": {
      "image/png": "[encoded data removed]",
      "text/plain": [
       "<Figure size 800x600 with 1 Axes>"
      ]
     },
     "metadata": {},
     "output_type": "display_data"
    }
   ],
   "source": [
    "# Plot\n",
    "plt.figure(figsize=(8, 6))\n",
    "sns.scatterplot(data=df_viz, x=\"x\", y=\"y\", hue=\"label\", palette=\"tab10\")\n",
    "for i in range(len(df_viz)):\n",
    "    plt.text(df_viz[\"x\"][i] + 0.2, df_viz[\"y\"][i], str(i), fontsize=9)\n",
    "plt.title(\"t-SNE Visualization of Math Questions Clusters\")\n",
    "plt.xlabel(\"Component 1\")\n",
    "plt.ylabel(\"Component 2\")\n",
    "plt.legend(title=\"Cluster\")\n",
    "plt.tight_layout()\n",
    "plt.show()"
   ]
  },
  {
   "cell_type": "code",
   "execution_count": 18,
   "id": "39e5f647-9ea9-488b-929d-e899fbb51e8a",
   "metadata": {},
   "outputs": [],
   "source": [
    "df_clusters = pd.DataFrame({\n",
    "    \"Question\": questions,\n",
    "    \"Cluster\": labels\n",
    "})"
   ]
  },
  {
   "cell_type": "code",
   "execution_count": 19,
   "id": "cda9712a-d1bf-4379-8e86-f27c7972d268",
   "metadata": {},
   "outputs": [
    {
     "name": "stdout",
     "output_type": "stream",
     "text": [
      "                                                       Question  Cluster\n",
      "7   If $y=\f",
      "rac{\\sin (x+a)}{\\sin (x+b)}, a \\neq b$, then $y$ ...        0\n",
      "18  Let the function $f(x)$ be defined as $f(x)=\\left\\egin...        1\n",
      "14  The largest value of $2 x^{3}-3 x^{2}-12 x+5$ for $-2 \\l...        1\n",
      "13  The maximum value $x^{1 / x}$ is (a) $1 / \\mathrm{e}^{\\m...        1\n",
      "11  The absolute maximum of $x^{40}-x^{20}$ on the interval ...        1\n",
      "6   The function $f(x)=x^{3}+a x^{2}+b x+c, a^{2} \\leq 3 b$ ...        1\n",
      "12  The extreme values of $4 \\cos \\left(x^{2}\\right) \\cos \\l...        2\n",
      "10  The minimum value of $e^{\\left(2 x^{2}-2 x+1\\right) \\sin...        2\n",
      "0   Find the greatest $(M)$ and least $(m)$ values of the fo...        2\n",
      "4   Using the first derivative, find the extrema of the func...        2\n",
      "1   Find the greatest least values of the functions (i) $f(x...        2\n",
      "8   The difference between the greatest and least values of ...        2\n",
      "9   The minimum value of $x^{2}+\f",
      "rac{1}{1+x^{2}}$ is at (a) ...        2\n",
      "16  If the largest term in the sequence $a_{n}=\f",
      "rac{n^{2}}{\\...        3\n",
      "17  The function $f(x)=\\int_{-1}^{x} t\\left(e^{t}-1\\right)(t...        4\n",
      "5   Find the extrema of function $f(x)=\\sqrt[3]{(x-1)^{2}}+\\...        4\n",
      "3   Find the points of local maxima and local minima of the ...        4\n",
      "2   Find the local maxima/local minima of the function $f(x)...        4\n",
      "15  The minimum value of $4 e^{2 x}+9 e^{-2 x}$ is (a) 11 (b...        4\n"
     ]
    }
   ],
   "source": [
    "pd.set_option(\"display.max_colwidth\", 60)\n",
    "print(df_clusters.sort_values(\"Cluster\"))"
   ]
  },
  {
   "cell_type": "code",
   "execution_count": null,
   "id": "ba183bdb-ec5d-4342-9ce7-f8ccf3d12b59",
   "metadata": {},
   "outputs": [],
   "source": []
  }
 ],
 "metadata": {
  "kernelspec": {
   "display_name": "Python 3 (ipykernel)",
   "language": "python",
   "name": "python3"
  },
  "language_info": {
   "codemirror_mode": {
    "name": "ipython",
    "version": 3
   },
   "file_extension": ".py",
   "mimetype": "text/x-python",
   "name": "python",
   "nbconvert_exporter": "python",
   "pygments_lexer": "ipython3",
   "version": "3.10.18"
  }
 },
 "nbformat": 4,
 "nbformat_minor": 5
}
